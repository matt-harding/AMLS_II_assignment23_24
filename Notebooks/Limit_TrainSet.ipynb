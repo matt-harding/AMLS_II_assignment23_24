{
 "cells": [
  {
   "cell_type": "code",
   "execution_count": 2,
   "id": "e52ae370-2342-4be6-aeee-6146ae1367bd",
   "metadata": {},
   "outputs": [],
   "source": [
    "import os\n",
    "import pandas as pd"
   ]
  },
  {
   "cell_type": "code",
   "execution_count": 3,
   "id": "806c9305-582b-4cee-8afe-7e6f6a95b7a6",
   "metadata": {},
   "outputs": [],
   "source": [
    "train_df = pd.read_csv('train.csv')\n",
    "\n",
    "train_img_names = []\n",
    "\n",
    "for root, dirs, files in os.walk('train_images'):\n",
    "    for name in files:\n",
    "        train_img_names.append(name)\n",
    "\n",
    "train_df = train_df[train_df['image'].isin(train_img_names)]\n",
    "\n",
    "train_df.to_csv('filtered_train.csv')"
   ]
  },
  {
   "cell_type": "code",
   "execution_count": null,
   "id": "eecf5c17-29bb-4eb0-a8fe-ebba9c28b2a3",
   "metadata": {},
   "outputs": [],
   "source": []
  }
 ],
 "metadata": {
  "kernelspec": {
   "display_name": "Python 3 (ipykernel)",
   "language": "python",
   "name": "python3"
  },
  "language_info": {
   "codemirror_mode": {
    "name": "ipython",
    "version": 3
   },
   "file_extension": ".py",
   "mimetype": "text/x-python",
   "name": "python",
   "nbconvert_exporter": "python",
   "pygments_lexer": "ipython3",
   "version": "3.10.2"
  }
 },
 "nbformat": 4,
 "nbformat_minor": 5
}
