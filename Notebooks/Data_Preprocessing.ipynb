{
 "cells": [
  {
   "cell_type": "code",
   "execution_count": 1,
   "id": "22603f1e-2d5c-4048-814a-28475a45ee56",
   "metadata": {},
   "outputs": [],
   "source": [
    "import pandas as pd"
   ]
  },
  {
   "cell_type": "code",
   "execution_count": 2,
   "id": "38f1873c-b28e-486b-876f-436ad4e3559f",
   "metadata": {},
   "outputs": [],
   "source": [
    "test_df = pd.read_csv('../train.csv')"
   ]
  },
  {
   "cell_type": "code",
   "execution_count": 5,
   "id": "caafd018-c854-44b7-b87a-9bc126461f4c",
   "metadata": {},
   "outputs": [
    {
     "data": {
      "text/plain": [
       "'../input/happy-whale-and-dolphin/train_images/00021adfb725ed.jpg'"
      ]
     },
     "execution_count": 5,
     "metadata": {},
     "output_type": "execute_result"
    }
   ],
   "source": [
    "test_df['image_path'][0]"
   ]
  },
  {
   "cell_type": "code",
   "execution_count": null,
   "id": "55d29873-ee4a-4eb1-9db6-3103d299022e",
   "metadata": {},
   "outputs": [],
   "source": []
  }
 ],
 "metadata": {
  "kernelspec": {
   "display_name": "Python 3 (ipykernel)",
   "language": "python",
   "name": "python3"
  },
  "language_info": {
   "codemirror_mode": {
    "name": "ipython",
    "version": 3
   },
   "file_extension": ".py",
   "mimetype": "text/x-python",
   "name": "python",
   "nbconvert_exporter": "python",
   "pygments_lexer": "ipython3",
   "version": "3.10.2"
  }
 },
 "nbformat": 4,
 "nbformat_minor": 5
}
