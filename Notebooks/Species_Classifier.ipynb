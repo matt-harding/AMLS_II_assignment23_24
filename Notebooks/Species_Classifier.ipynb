{
 "cells": [
  {
   "cell_type": "code",
   "execution_count": 16,
   "id": "107adcfc-ed4f-4bd0-b4ea-2242ad455d8c",
   "metadata": {},
   "outputs": [],
   "source": [
    "import os\n",
    "import pandas as pd\n",
    "from PIL import Image\n",
    "import torch\n",
    "from torch.utils.data import Dataset, DataLoader\n",
    "import torchvision.transforms as transforms\n",
    "import torch.nn as nn\n",
    "import torch.optim as optim\n",
    "from torch import save, load"
   ]
  },
  {
   "cell_type": "code",
   "execution_count": 23,
   "id": "357e3388-233f-4d24-b416-a6c6063259b9",
   "metadata": {},
   "outputs": [],
   "source": [
    "class WhaleDataset(Dataset):\n",
    "    def __init__(self, csv_file, image_dir, transform=None):\n",
    "        self.data = pd.read_csv(csv_file)\n",
    "        self.image_dir = image_dir\n",
    "        self.transform = transform\n",
    "        self.image_names = self.data['image'].tolist()\n",
    "        self.labels = self.data['species'].tolist()\n",
    "        self.classes = self.data['species'].unique()\n",
    "        self.encode = {k: i for i,k in enumerate(self.classes)}\n",
    "\n",
    "    def __len__(self):\n",
    "        return len(self.data)\n",
    "\n",
    "    def __getitem__(self,idx):\n",
    "        image_name = os.path.join(self.image_dir, self.image_names[idx])\n",
    "        image = Image.open(image_name).convert('RGB')\n",
    "        label = self.encode[self.labels[idx]]\n",
    "\n",
    "        if self.transform:\n",
    "            image = self.transform(image)\n",
    "\n",
    "        return image, label"
   ]
  },
  {
   "cell_type": "code",
   "execution_count": 24,
   "id": "c93fd410-8284-49ed-92a5-d07ca21593f3",
   "metadata": {},
   "outputs": [],
   "source": [
    "transform = transforms.Compose([\n",
    "    transforms.Resize((224, 224)),\n",
    "    transforms.ToTensor(),\n",
    "    transforms.Normalize(mean=[0.485, 0.456, 0.406], std=[0.229, 0.224, 0.225])\n",
    "])"
   ]
  },
  {
   "cell_type": "code",
   "execution_count": 25,
   "id": "b41d54ff-273a-4b86-bcda-f10e537eac97",
   "metadata": {},
   "outputs": [],
   "source": [
    "dataset = WhaleDataset(csv_file='filtered_train.csv', image_dir='train_images', transform=transform)\n",
    "dataloader = DataLoader(dataset, batch_size=32, shuffle=True)"
   ]
  },
  {
   "cell_type": "code",
   "execution_count": 26,
   "id": "4ceaf8b0-a771-4e0e-bf9e-09c259ef4d8a",
   "metadata": {},
   "outputs": [],
   "source": [
    "class WhaleClassifier(nn.Module):\n",
    "    def __init__(self, num_classes):\n",
    "        super(WhaleClassifier, self).__init__()\n",
    "        self.conv1 = nn.Conv2d(3, 16, kernel_size=3, padding=1)\n",
    "        self.relu = nn.ReLU()\n",
    "        self.maxpool = nn.MaxPool2d(kernel_size=2, stride=2)\n",
    "        self.conv2 = nn.Conv2d(16, 32, kernel_size=3,padding=1)\n",
    "        self.conv3 = nn.Conv2d(32, 64, kernel_size=3, padding=1)\n",
    "        self.fc1 = nn.Linear(64 * 56 * 56, 512)\n",
    "        self.fc2 = nn.Linear(512, num_classes)\n",
    "        self.embedding = nn.Embedding(num_classes, num_classes)\n",
    "\n",
    "    def forward(self, x, labels=None):\n",
    "        out = self.conv1(x)\n",
    "        out = self.relu(out)\n",
    "        out = self.maxpool(out)\n",
    "        out = self.conv2(out)\n",
    "        out = self.relu(out)\n",
    "        out = self.maxpool(out)\n",
    "        out = self.conv3(out)\n",
    "        out = self.relu(out)\n",
    "        out = out.view(out.size(0), -1)\n",
    "        out = self.fc1(out)\n",
    "        out = self.relu(out)\n",
    "        out = self.fc2(out)\n",
    "\n",
    "        if labels is not None:\n",
    "            out = self.embedding(labels).squeeze(1)\n",
    "\n",
    "        return out"
   ]
  },
  {
   "cell_type": "code",
   "execution_count": 27,
   "id": "ce51434e-1183-4d20-bf01-9705cd23916e",
   "metadata": {},
   "outputs": [],
   "source": [
    "num_classes = dataset.data['species'].nunique()\n",
    "model = WhaleClassifier(num_classes)\n",
    "criterion = nn.CrossEntropyLoss()\n",
    "optimizer = optim.Adam(model.parameters(), lr=0.01)"
   ]
  },
  {
   "cell_type": "code",
   "execution_count": 28,
   "id": "bf303178-1449-41a6-a3a4-bd675f841a53",
   "metadata": {},
   "outputs": [
    {
     "name": "stdout",
     "output_type": "stream",
     "text": [
      "Epoch: 1, Loss: 3.1922\n"
     ]
    }
   ],
   "source": [
    "num_epochs = 1\n",
    "device = torch.device('cuda' if torch.cuda.is_available() else 'cpu')\n",
    "model.to(device)\n",
    "\n",
    "for epoch in range(num_epochs):\n",
    "    running_loss = 0.0\n",
    "    for inputs, labels in dataloader:\n",
    "        inputs, labels = inputs.to(device), labels.to(device)\n",
    "        optimizer.zero_grad()\n",
    "        outputs = model(inputs, labels)\n",
    "        loss = criterion(outputs, labels)\n",
    "        loss.backward()\n",
    "        optimizer.step()\n",
    "\n",
    "        running_loss += loss.item()\n",
    "\n",
    "    epoch_loss = running_loss / len(dataloader)\n",
    "    print(f'Epoch: {epoch+1}, Loss: {epoch_loss:.4f}')"
   ]
  },
  {
   "cell_type": "code",
   "execution_count": 29,
   "id": "12b104aa-73b7-4e47-88a3-ddffb4015fc1",
   "metadata": {},
   "outputs": [],
   "source": [
    "with open('model_state.pt', 'wb') as f:\n",
    "    save(model.state_dict(), f)"
   ]
  },
  {
   "cell_type": "code",
   "execution_count": 33,
   "id": "6bae82c8-633a-4930-bf82-8ce3b800ca75",
   "metadata": {},
   "outputs": [
    {
     "data": {
      "text/plain": [
       "WhaleClassifier(\n",
       "  (conv1): Conv2d(3, 16, kernel_size=(3, 3), stride=(1, 1), padding=(1, 1))\n",
       "  (relu): ReLU()\n",
       "  (maxpool): MaxPool2d(kernel_size=2, stride=2, padding=0, dilation=1, ceil_mode=False)\n",
       "  (conv2): Conv2d(16, 32, kernel_size=(3, 3), stride=(1, 1), padding=(1, 1))\n",
       "  (conv3): Conv2d(32, 64, kernel_size=(3, 3), stride=(1, 1), padding=(1, 1))\n",
       "  (fc1): Linear(in_features=200704, out_features=512, bias=True)\n",
       "  (fc2): Linear(in_features=512, out_features=30, bias=True)\n",
       "  (embedding): Embedding(30, 30)\n",
       ")"
      ]
     },
     "execution_count": 33,
     "metadata": {},
     "output_type": "execute_result"
    }
   ],
   "source": [
    "model = WhaleClassifier(num_classes)\n",
    "model.load_state_dict(torch.load('model_state.pt'))\n",
    "\n",
    "model.eval()"
   ]
  },
  {
   "cell_type": "code",
   "execution_count": 34,
   "id": "af04dfd6-ddf0-4b65-afb2-4f136b0c7ffa",
   "metadata": {},
   "outputs": [],
   "source": [
    "class InferenceDataset(Dataset):\n",
    "    def __init__(self, image_dir, transform=None):\n",
    "        self.image_dir = image_dir\n",
    "        self.image_names = os.listdir(image_dir)\n",
    "        self.transform = transform\n",
    "\n",
    "    def __len__(self):\n",
    "        return len(self.image_names)\n",
    "\n",
    "    def __getitem__(self, idx):\n",
    "        image_name = os.path.join(self.image_dir, self.image_names[idx])\n",
    "        image = Image.open(image_name).convert('RGB')\n",
    "\n",
    "\n",
    "        if self.transform:\n",
    "            image = self.transform(image)\n",
    "\n",
    "        return image"
   ]
  },
  {
   "cell_type": "code",
   "execution_count": 39,
   "id": "881daa50-19f6-4e96-b76b-4f115cb72636",
   "metadata": {},
   "outputs": [
    {
     "name": "stdout",
     "output_type": "stream",
     "text": [
      "tensor([[[[-0.8849, -0.8849, -0.8849,  ..., -1.2445, -1.2103, -1.1760],\n",
      "          [-0.9363, -1.0048, -1.0733,  ..., -1.2788, -1.2103, -1.2274],\n",
      "          [-0.9877, -1.0904, -1.1760,  ..., -1.2274, -1.2103, -1.1760],\n",
      "          ...,\n",
      "          [-1.4500, -1.4672, -1.5185,  ..., -1.6213, -1.6384, -1.6384],\n",
      "          [-1.2959, -1.4843, -1.4843,  ..., -1.6042, -1.6213, -1.6384],\n",
      "          [-1.5528, -1.6042, -1.3987,  ..., -1.5357, -1.5185, -1.5357]],\n",
      "\n",
      "         [[-0.1800, -0.2150, -0.2500,  ..., -0.6352, -0.6176, -0.5826],\n",
      "          [-0.2675, -0.3375, -0.3901,  ..., -0.6352, -0.6001, -0.6001],\n",
      "          [-0.2850, -0.4076, -0.4601,  ..., -0.6352, -0.6176, -0.5826],\n",
      "          ...,\n",
      "          [-1.0378, -1.0028, -1.1253,  ..., -1.1078, -1.1253, -1.1429],\n",
      "          [-0.8452, -1.0553, -1.1078,  ..., -1.0903, -1.1253, -1.1429],\n",
      "          [-1.1429, -1.2129, -0.9503,  ..., -1.0378, -1.0378, -1.0728]],\n",
      "\n",
      "         [[ 0.6531,  0.6356,  0.6182,  ...,  0.3045,  0.3393,  0.3742],\n",
      "          [ 0.5834,  0.5485,  0.5136,  ...,  0.2522,  0.2871,  0.2871],\n",
      "          [ 0.5485,  0.4614,  0.3916,  ...,  0.3393,  0.3393,  0.3568],\n",
      "          ...,\n",
      "          [-0.3578, -0.3230, -0.4275,  ..., -0.2184, -0.2358, -0.2532],\n",
      "          [-0.1487, -0.3230, -0.3753,  ..., -0.2184, -0.2358, -0.2707],\n",
      "          [-0.3230, -0.4101, -0.2010,  ..., -0.2184, -0.2358, -0.2707]]],\n",
      "\n",
      "\n",
      "        [[[ 0.1426,  0.1426,  0.1426,  ...,  0.0741,  0.1083,  0.0912],\n",
      "          [ 0.1083,  0.0741,  0.1083,  ...,  0.1083,  0.1426,  0.1426],\n",
      "          [ 0.1254,  0.1083,  0.1083,  ...,  0.0741,  0.0912,  0.1426],\n",
      "          ...,\n",
      "          [ 0.0056,  0.0056,  0.0056,  ...,  0.0398,  0.0227,  0.0227],\n",
      "          [-0.0116, -0.0116,  0.0227,  ...,  0.0398,  0.0227,  0.0227],\n",
      "          [-0.0116,  0.0056,  0.0056,  ...,  0.0398,  0.0056,  0.0056]],\n",
      "\n",
      "         [[ 0.4678,  0.4678,  0.4853,  ...,  0.4503,  0.4678,  0.4678],\n",
      "          [ 0.4328,  0.4153,  0.4328,  ...,  0.3978,  0.4503,  0.4503],\n",
      "          [ 0.4503,  0.4153,  0.4153,  ...,  0.3102,  0.3627,  0.3803],\n",
      "          ...,\n",
      "          [ 0.3627,  0.3803,  0.3627,  ...,  0.3277,  0.3277,  0.3102],\n",
      "          [ 0.3627,  0.3627,  0.3627,  ...,  0.3452,  0.3452,  0.3452],\n",
      "          [ 0.3452,  0.3452,  0.2927,  ...,  0.3627,  0.3627,  0.3803]],\n",
      "\n",
      "         [[ 0.7228,  0.7228,  0.7576,  ...,  0.6879,  0.6705,  0.6531],\n",
      "          [ 0.6879,  0.6531,  0.6705,  ...,  0.6531,  0.6705,  0.6879],\n",
      "          [ 0.7054,  0.6705,  0.6182,  ...,  0.5834,  0.6008,  0.6531],\n",
      "          ...,\n",
      "          [ 0.6182,  0.6531,  0.6356,  ...,  0.5659,  0.5485,  0.5485],\n",
      "          [ 0.6356,  0.6705,  0.6182,  ...,  0.6008,  0.5834,  0.5485],\n",
      "          [ 0.6356,  0.6531,  0.5659,  ...,  0.6182,  0.6008,  0.5834]]],\n",
      "\n",
      "\n",
      "        [[[ 1.5125,  1.5125,  1.5125,  ...,  1.6324,  1.6324,  1.6324],\n",
      "          [ 1.5125,  1.5125,  1.5125,  ...,  1.6324,  1.6324,  1.6324],\n",
      "          [ 1.5125,  1.5125,  1.5125,  ...,  1.6495,  1.6667,  1.6495],\n",
      "          ...,\n",
      "          [-0.5082, -0.4226, -0.3198,  ...,  0.9132,  0.9132,  0.8961],\n",
      "          [ 0.2624,  0.1083, -0.1657,  ...,  0.9988,  0.9474,  0.8618],\n",
      "          [ 0.1083, -0.1486, -0.3712,  ...,  0.9817,  1.1015,  1.1187]],\n",
      "\n",
      "         [[ 1.8158,  1.8158,  1.8158,  ...,  1.9034,  1.9034,  1.9034],\n",
      "          [ 1.8158,  1.8158,  1.8158,  ...,  1.9034,  1.9034,  1.9034],\n",
      "          [ 1.8158,  1.8158,  1.8158,  ...,  1.9034,  1.9034,  1.9034],\n",
      "          ...,\n",
      "          [ 0.0476,  0.1352,  0.2577,  ...,  1.3957,  1.3957,  1.3957],\n",
      "          [ 0.8354,  0.6779,  0.4153,  ...,  1.4657,  1.4132,  1.3606],\n",
      "          [ 0.7129,  0.4503,  0.1877,  ...,  1.4307,  1.5357,  1.5357]],\n",
      "\n",
      "         [[ 2.2566,  2.2566,  2.2566,  ...,  2.3263,  2.3263,  2.3263],\n",
      "          [ 2.2566,  2.2566,  2.2566,  ...,  2.3263,  2.3263,  2.3263],\n",
      "          [ 2.2566,  2.2566,  2.2566,  ...,  2.3263,  2.3263,  2.3263],\n",
      "          ...,\n",
      "          [ 1.0191,  1.0888,  1.1759,  ...,  2.1346,  2.1346,  2.1346],\n",
      "          [ 1.6988,  1.5768,  1.3677,  ...,  2.1520,  2.1520,  2.0997],\n",
      "          [ 1.6291,  1.3677,  1.1062,  ...,  2.1694,  2.2043,  2.2043]]],\n",
      "\n",
      "\n",
      "        ...,\n",
      "\n",
      "\n",
      "        [[[ 0.1083, -0.1657, -0.3541,  ...,  0.3994,  0.4166,  0.4337],\n",
      "          [ 0.3481,  0.1426, -0.0287,  ..., -0.1999, -0.2171, -0.1999],\n",
      "          [ 0.5022,  0.3481,  0.2453,  ..., -0.8507, -0.7479, -0.6281],\n",
      "          ...,\n",
      "          [-1.1760, -1.2274, -1.3473,  ..., -1.0733, -1.1247, -1.2959],\n",
      "          [-1.2788, -1.3644, -1.2788,  ..., -1.1075, -1.0904, -1.2445],\n",
      "          [-1.4158, -1.4329, -1.1247,  ..., -1.1247, -1.1932, -1.1932]],\n",
      "\n",
      "         [[ 0.6078,  0.4678,  0.3803,  ...,  0.8354,  0.8529,  0.8704],\n",
      "          [ 0.7654,  0.6429,  0.5553,  ...,  0.4153,  0.3978,  0.4328],\n",
      "          [ 0.8704,  0.7829,  0.7129,  ..., -0.0049,  0.0651,  0.1527],\n",
      "          ...,\n",
      "          [-1.0378, -1.0903, -1.1954,  ..., -1.0203, -1.0903, -1.2304],\n",
      "          [-1.1604, -1.2304, -1.1604,  ..., -1.0553, -1.0378, -1.2129],\n",
      "          [-1.3004, -1.3179, -1.0378,  ..., -1.0903, -1.1078, -1.1429]],\n",
      "\n",
      "         [[ 1.2457,  1.1759,  1.1062,  ...,  1.4374,  1.4374,  1.4548],\n",
      "          [ 1.3502,  1.2805,  1.2282,  ...,  1.0365,  1.0365,  1.0714],\n",
      "          [ 1.4200,  1.3677,  1.3154,  ...,  0.6705,  0.7402,  0.8274],\n",
      "          ...,\n",
      "          [-0.6193, -0.6367, -0.7761,  ..., -0.6890, -0.7413, -0.8633],\n",
      "          [-0.7413, -0.8284, -0.7936,  ..., -0.7238, -0.7064, -0.8807],\n",
      "          [-0.9330, -0.9853, -0.6890,  ..., -0.7587, -0.7761, -0.7761]]],\n",
      "\n",
      "\n",
      "        [[[ 0.5364,  0.5878,  0.5878,  ...,  0.7933,  0.7762,  0.6906],\n",
      "          [ 0.5536,  0.5707,  0.5707,  ...,  0.8961,  0.9132,  0.8276],\n",
      "          [ 0.6392,  0.5707,  0.5707,  ...,  0.9303,  0.9132,  0.9303],\n",
      "          ...,\n",
      "          [-1.8782, -1.8953, -1.8782,  ..., -1.8268, -1.8439, -1.8610],\n",
      "          [-1.8953, -1.8953, -1.8610,  ..., -1.7240, -1.7240, -1.6727],\n",
      "          [-1.8782, -1.8782, -1.8610,  ..., -1.7412, -1.7583, -1.6555]],\n",
      "\n",
      "         [[ 1.0455,  1.0630,  1.0455,  ...,  1.2206,  1.2031,  1.1506],\n",
      "          [ 1.0455,  1.0630,  1.0630,  ...,  1.3081,  1.3256,  1.2731],\n",
      "          [ 1.0980,  1.0805,  1.0630,  ...,  1.3431,  1.3256,  1.3081],\n",
      "          ...,\n",
      "          [-1.7556, -1.7556, -1.7731,  ..., -1.4055, -1.3354, -1.3529],\n",
      "          [-1.7731, -1.7731, -1.7731,  ..., -1.4405, -1.4405, -1.4405],\n",
      "          [-1.7731, -1.7556, -1.7556,  ..., -1.3354, -1.3529, -1.2654]],\n",
      "\n",
      "         [[ 1.4025,  1.4200,  1.4025,  ...,  1.5245,  1.5245,  1.4722],\n",
      "          [ 1.4025,  1.4200,  1.4025,  ...,  1.5768,  1.5942,  1.5420],\n",
      "          [ 1.4374,  1.4374,  1.4200,  ...,  1.5942,  1.5768,  1.5768],\n",
      "          ...,\n",
      "          [-1.4559, -1.4559, -1.4559,  ..., -0.8633, -0.7936, -0.8284],\n",
      "          [-1.4559, -1.4733, -1.4559,  ..., -1.0027, -1.0376, -1.0550],\n",
      "          [-1.4559, -1.4733, -1.4733,  ..., -0.8981, -0.8981, -0.7413]]],\n",
      "\n",
      "\n",
      "        [[[ 2.1119,  2.1462,  2.2318,  ...,  2.2489,  2.2489,  2.2489],\n",
      "          [ 2.1633,  2.1633,  2.2318,  ...,  2.2489,  2.2489,  2.2489],\n",
      "          [ 2.2147,  2.2147,  2.2489,  ...,  2.2489,  2.2489,  2.2489],\n",
      "          ...,\n",
      "          [ 2.1290,  2.1804,  2.0605,  ...,  2.2318,  2.0263,  1.6324],\n",
      "          [ 2.2147,  2.1975,  1.9920,  ...,  2.1804,  1.7694,  1.4954],\n",
      "          [ 2.2489,  2.2489,  2.1975,  ...,  2.0605,  1.7694,  1.9064]],\n",
      "\n",
      "         [[ 2.4286,  2.4111,  2.4286,  ...,  2.4286,  2.4286,  2.4286],\n",
      "          [ 2.4286,  2.4111,  2.4286,  ...,  2.4286,  2.4286,  2.4286],\n",
      "          [ 2.4286,  2.4286,  2.4286,  ...,  2.4286,  2.4286,  2.4286],\n",
      "          ...,\n",
      "          [ 2.3235,  2.3936,  2.3410,  ...,  2.4111,  2.3235,  1.9909],\n",
      "          [ 2.3936,  2.4111,  2.2710,  ...,  2.3936,  2.0959,  1.8859],\n",
      "          [ 2.4286,  2.4286,  2.4111,  ...,  2.2885,  2.0609,  2.2010]],\n",
      "\n",
      "         [[ 2.6226,  2.6051,  2.6400,  ...,  2.6400,  2.6400,  2.6400],\n",
      "          [ 2.6400,  2.6226,  2.6400,  ...,  2.6400,  2.6400,  2.6400],\n",
      "          [ 2.6400,  2.6400,  2.6400,  ...,  2.6400,  2.6400,  2.6400],\n",
      "          ...,\n",
      "          [ 2.6051,  2.6226,  2.5703,  ...,  2.6400,  2.5354,  2.2217],\n",
      "          [ 2.6226,  2.6226,  2.5180,  ...,  2.6226,  2.3437,  2.1171],\n",
      "          [ 2.6226,  2.6400,  2.6226,  ...,  2.5529,  2.3960,  2.4483]]]])\n"
     ]
    }
   ],
   "source": [
    "inference_dataset = InferenceDataset(image_dir='inference_images', transform=transform)\n",
    "inference_loader = DataLoader(inference_dataset, batch_size=32, shuffle=False)\n",
    "\n",
    "device = torch.device('cuda' if torch.cuda.is_available() else 'cpu')\n",
    "model.to(device)\n",
    "\n",
    "with torch.no_grad():\n",
    "    for images in inference_loader:\n",
    "        images = images.to(device)\n",
    "        outputs = model(images)\n",
    "        _, predicted = torch.max(outputs.data, 1)\n",
    "\n",
    "reverse_encode = {v:k for k, v in dataset.encode.items()}\n",
    "predicted_labels = [reverse_encode[label.item()] for label in predicted]"
   ]
  },
  {
   "cell_type": "code",
   "execution_count": 38,
   "id": "e1c6ab37-aca2-47a0-a39f-1ca338c3fe2b",
   "metadata": {},
   "outputs": [
    {
     "data": {
      "text/plain": [
       "['bottlenose_dolpin',\n",
       " 'bottlenose_dolpin',\n",
       " 'frasiers_dolphin',\n",
       " 'bottlenose_dolpin',\n",
       " 'false_killer_whale',\n",
       " 'false_killer_whale',\n",
       " 'false_killer_whale',\n",
       " 'false_killer_whale',\n",
       " 'false_killer_whale',\n",
       " 'frasiers_dolphin',\n",
       " 'frasiers_dolphin',\n",
       " 'false_killer_whale',\n",
       " 'frasiers_dolphin',\n",
       " 'frasiers_dolphin',\n",
       " 'frasiers_dolphin',\n",
       " 'bottlenose_dolpin',\n",
       " 'false_killer_whale',\n",
       " 'bottlenose_dolpin',\n",
       " 'false_killer_whale',\n",
       " 'false_killer_whale',\n",
       " 'bottlenose_dolpin',\n",
       " 'bottlenose_dolpin',\n",
       " 'bottlenose_dolpin',\n",
       " 'frasiers_dolphin']"
      ]
     },
     "execution_count": 38,
     "metadata": {},
     "output_type": "execute_result"
    }
   ],
   "source": [
    "predicted_labels"
   ]
  },
  {
   "cell_type": "code",
   "execution_count": 40,
   "id": "6af9a594-a4ae-4409-921c-646905f14737",
   "metadata": {},
   "outputs": [
    {
     "data": {
      "text/plain": [
       "<__main__.InferenceDataset at 0x168a0ce80>"
      ]
     },
     "execution_count": 40,
     "metadata": {},
     "output_type": "execute_result"
    }
   ],
   "source": [
    "inference_dataset"
   ]
  },
  {
   "cell_type": "code",
   "execution_count": null,
   "id": "9f9371b8-a5b9-4554-84eb-b5cf9c3ca661",
   "metadata": {},
   "outputs": [],
   "source": []
  }
 ],
 "metadata": {
  "kernelspec": {
   "display_name": "Python 3 (ipykernel)",
   "language": "python",
   "name": "python3"
  },
  "language_info": {
   "codemirror_mode": {
    "name": "ipython",
    "version": 3
   },
   "file_extension": ".py",
   "mimetype": "text/x-python",
   "name": "python",
   "nbconvert_exporter": "python",
   "pygments_lexer": "ipython3",
   "version": "3.10.2"
  }
 },
 "nbformat": 4,
 "nbformat_minor": 5
}
